{
 "cells": [
  {
   "cell_type": "markdown",
   "metadata": {},
   "source": [
    "# Custom"
   ]
  },
  {
   "cell_type": "markdown",
   "metadata": {},
   "source": [
    "## Loading the packages"
   ]
  },
  {
   "cell_type": "code",
   "execution_count": 77,
   "metadata": {},
   "outputs": [],
   "source": [
    "import numpy as np\n",
    "from matplotlib import pyplot as pl\n",
    "import os\n",
    "import scipy.io.wavfile as wav\n",
    "\n",
    "# For model selection\n",
    "import sys\n",
    "from ipywidgets import interact, widgets\n",
    "\n",
    "%matplotlib inline\n",
    "\n",
    "PATH = 'vowels/'"
   ]
  },
  {
   "cell_type": "code",
   "execution_count": 78,
   "metadata": {
    "scrolled": true
   },
   "outputs": [
    {
     "name": "stdout",
     "output_type": "stream",
     "text": [
      "Defaulting to user installation because normal site-packages is not writeable\n",
      "Requirement already satisfied: python_speech_features in /home/nichungi/.local/lib/python3.8/site-packages (0.6)\n"
     ]
    }
   ],
   "source": [
    "!pip install python_speech_features\n",
    "from python_speech_features import mfcc"
   ]
  },
  {
   "cell_type": "markdown",
   "metadata": {},
   "source": [
    "## Create the dataset"
   ]
  },
  {
   "cell_type": "code",
   "execution_count": 79,
   "metadata": {},
   "outputs": [
    {
     "name": "stdout",
     "output_type": "stream",
     "text": [
      "Number of men   :  36\n",
      "Number of woman :  36\n"
     ]
    }
   ],
   "source": [
    "\n",
    "def create_dataset():\n",
    "    \n",
    "    input_data = []\n",
    "    output_data = []\n",
    "    \n",
    "    counter_man = 0\n",
    "    counter_woman = 0\n",
    "    dataset = []\n",
    "    \n",
    "    # iterate over files in vowels/\n",
    "    for filename in os.listdir(PATH):\n",
    "        if filename.startswith('nam'):#man\n",
    "            counter_man = counter_man + 1\n",
    "            output_data.append(1)\n",
    "        elif filename.startswith('naf'): #woman\n",
    "            counter_woman = counter_woman + 1\n",
    "            output_data.append(-1)\n",
    "        else:\n",
    "            continue\n",
    "        \n",
    "        # Generate wav file\n",
    "        sample_rate, X = wav.read(os.path.join(PATH, filename))\n",
    "        \n",
    "        # Calculate MFCC coefficients\n",
    "        ceps = mfcc(X, samplerate=sample_rate, nfft=1024)\n",
    "        \n",
    "        # Calculate the features being used to train the model \n",
    "        # On doit en choisir un !\n",
    "        ceps_avg = np.mean(ceps, axis=0)\n",
    "        #ceps_std = np.std(ceps, axis=0)\n",
    "        \n",
    "        input_data.append(ceps_avg)\n",
    "        \n",
    "        \n",
    "    print(\"Number of men   : \", counter_man)\n",
    "    print(\"Number of woman : \", counter_woman)\n",
    "    \n",
    "    input_data = np.vstack(input_data)\n",
    "    output_data = np.vstack(output_data)\n",
    "    \n",
    "    dataset = np.concatenate((input_data, output_data), axis=1)\n",
    "\n",
    "    return dataset\n",
    "    \n",
    "        \n",
    "        \n",
    "dataset = create_dataset()"
   ]
  },
  {
   "cell_type": "markdown",
   "metadata": {},
   "source": [
    "## Model selection"
   ]
  },
  {
   "cell_type": "code",
   "execution_count": 80,
   "metadata": {
    "scrolled": true
   },
   "outputs": [],
   "source": [
    "# MLP\n",
    "import mlp_backprop_momentum as mlp"
   ]
  },
  {
   "cell_type": "code",
   "execution_count": 81,
   "metadata": {},
   "outputs": [],
   "source": [
    "import k_fold_cross_validation as cv"
   ]
  },
  {
   "cell_type": "code",
   "execution_count": 82,
   "metadata": {},
   "outputs": [],
   "source": [
    "N_INITS = 10\n",
    "EPOCHS = 200\n",
    "N_NEURONS = [2, 4, 8, 16, 32]\n",
    "LEARNING_RATE = 0.001\n",
    "MOMENTUM = 0.5\n",
    "K = 5"
   ]
  },
  {
   "cell_type": "markdown",
   "metadata": {},
   "source": [
    "### Final model"
   ]
  },
  {
   "cell_type": "code",
   "execution_count": 83,
   "metadata": {},
   "outputs": [],
   "source": [
    "nn = mlp.MLP([13,15,1], 'tanh')"
   ]
  },
  {
   "cell_type": "code",
   "execution_count": 84,
   "metadata": {},
   "outputs": [],
   "source": [
    "MSE_train, MSE_test, conf_mat = cv.k_fold_cross_validation(nn,\n",
    "                                                          dataset,\n",
    "                                                          k=K,\n",
    "                                                          learning_rate=LEARNING_RATE,\n",
    "                                                          momentum=MOMENTUM,\n",
    "                                                          epochs=70,\n",
    "                                                          threshold=0.0)"
   ]
  },
  {
   "cell_type": "code",
   "execution_count": 85,
   "metadata": {},
   "outputs": [
    {
     "name": "stdout",
     "output_type": "stream",
     "text": [
      "MSE training:  0.0094680435979656\n",
      "MSE test:  0.18840022707394613\n",
      "Confusion matrix:\n",
      "[[33.  3.]\n",
      " [ 2. 34.]]\n"
     ]
    }
   ],
   "source": [
    "# Just to show that the model is accurate\n",
    "print('MSE training: ', MSE_train)\n",
    "print('MSE test: ', MSE_test)\n",
    "print('Confusion matrix:')\n",
    "print(conf_mat)"
   ]
  },
  {
   "cell_type": "code",
   "execution_count": 86,
   "metadata": {},
   "outputs": [
    {
     "name": "stdout",
     "output_type": "stream",
     "text": [
      "Filename : man_axel3.wav\n",
      "is a man \n",
      "\n",
      "Filename : woman_jess2.wav\n",
      "is a woman \n",
      "\n",
      "Filename : man_axel1.wav\n",
      "is a man \n",
      "\n",
      "Filename : woman_jess3.wav\n",
      "is a woman \n",
      "\n",
      "Filename : woman_jess1.wav\n",
      "is a woman \n",
      "\n",
      "Filename : man_nico1.wav\n",
      "is a woman \n",
      "\n",
      "Filename : man_axel2.wav\n",
      "is a man \n",
      "\n"
     ]
    }
   ],
   "source": [
    "PATH_CUSTOM = 'custom_vowels/'\n",
    "\n",
    "\n",
    "def man_or_woman(filename):\n",
    "    sample_rate, X = wav.read(os.path.join(PATH_CUSTOM, filename))\n",
    "    ceps = mfcc(X, samplerate=sample_rate, nfft=1200)\n",
    "    ceps_avg = np.mean(ceps, axis=0)\n",
    "    \n",
    "    result = nn.predict(ceps_avg)\n",
    "    \n",
    "    print(\"Filename :\", filename)\n",
    "    \n",
    "    if result < 0 :\n",
    "        print(\"is a woman \\n\")\n",
    "    else :\n",
    "        print(\"is a man \\n\")\n",
    "\n",
    "        \n",
    "for filename in os.listdir(PATH_CUSTOM):\n",
    "    man_or_woman(filename)\n",
    "    \n",
    "\n",
    "\n"
   ]
  },
  {
   "cell_type": "code",
   "execution_count": null,
   "metadata": {},
   "outputs": [],
   "source": []
  }
 ],
 "metadata": {
  "kernelspec": {
   "display_name": "Python 3 (ipykernel)",
   "language": "python",
   "name": "python3"
  },
  "language_info": {
   "codemirror_mode": {
    "name": "ipython",
    "version": 3
   },
   "file_extension": ".py",
   "mimetype": "text/x-python",
   "name": "python",
   "nbconvert_exporter": "python",
   "pygments_lexer": "ipython3",
   "version": "3.8.12"
  }
 },
 "nbformat": 4,
 "nbformat_minor": 1
}
